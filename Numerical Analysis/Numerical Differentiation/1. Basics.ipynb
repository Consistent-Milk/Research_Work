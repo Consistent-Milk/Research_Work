{
 "cells": [
  {
   "cell_type": "markdown",
   "metadata": {},
   "source": [
    "#### <u>The Derivative</u>\n",
    "\n",
    "The derivate of the function $y=f(x)$ at $x_0$ is given by,\n",
    "$$f'(x_0) = \\lim_{x \\to 0} \\frac{f(x_0 + h) - f(x_0)}{h}$$\n",
    "\n",
    "To approximate $f'(x_0)$, suppose first that $x_0 \\in (a,b)$  where $f \\in C^{2}[a, b]$. \n",
    "\n",
    "Also, let $x_1 = x_0 + h$ where $h \\neq 0$ and $h$ is sufficiently small so that $x_1 \\in [a,b]$.\n",
    "\n",
    "We will construct the first lagrange polynomial $P_{0,1}(x)$ for $f$ determined by $x_0$ and $x_1$ with its error term,\n",
    "\n",
    "$$\n",
    "\\begin{align*}\n",
    "f(x) &= P_{0, 1}(x) + \\frac{(x - x_0)(x - x_1)}{2!} f''(\\mathcal{E}(x))\\\\\n",
    "&= \\frac{f(x_0)(x - x_0 -h)}{-h} + \\frac{f(x_0 + h)(x - x_0)}{h} + \\frac{(x - x_0)(x - x_0 - h)}{2} f''(\\mathcal{E}(x))\n",
    "\\end{align*}\n",
    "$$\n",
    "\n",
    "for some $\\mathcal{E}(x)$ between $x_0$ and $x_1$. Differentiating gives, \n",
    "$$\n",
    "\\begin{align*}\n",
    "f'(x) &= \\frac{f(x_0 + h) - f(x_0)}{h} + D_x \\Bigr[\\frac{(x - x_0)(x - x_0 -h)}{2} f''(\\mathcal{E}(x))\\Bigr]\\\\\n",
    "& = \\frac{f(x_0 + h) - f(x_0)}{h} + \\frac{2(x - x_0) - h}{2} f''(\\mathcal{E}(x)) + \\frac{(x - x_0)(x - x_0 - h)}{2} D_x (f''\\mathcal{E}(x))\n",
    "\\end{align*}\n",
    "$$\n",
    "\n",
    "Deleting the terms envolving $\\mathcal{E}(x)$ gives,\n",
    "$$\n",
    "f'(x) \\approx \\frac{f(x_0 + h) - f(x_0)}{h}\n",
    "$$"
   ]
  },
  {
   "cell_type": "markdown",
   "metadata": {},
   "source": [
    "#### <u>The Forward Difference and Backward Difference Formula</u>\n",
    "\n",
    "When $x$ is $x_0$, however, the coefficient $D_x f''(\\mathcal{E}(x))$ is 0, and the formula simplifies to,\n",
    "$$\n",
    "f'(x_0) = \\frac{f(x_0 + h) - f(x_0)}{h} - \\frac{h}{2} f''(\\mathcal{E}(x)) \\hspace{0.5cm} ... \\hspace{0.1cm}EQ(1)\n",
    "$$\n",
    "\n",
    "For small values of h, the difference quotient\n",
    "$$\n",
    "\\frac{f(x_0 + h) - f(x_0)}{h}\n",
    "$$\n",
    "can be used to approximate $f'(x_0)$ with an error bounded by,\n",
    "$$\n",
    "\\frac{M\\lvert h \\rvert}{2}\n",
    "$$\n",
    "where $M$ is a bound on $\\lvert f''(x) \\rvert$ for $x \\in (x_0, x_0 + h)$. \n",
    "\n",
    "This is known as the the __Forward Difference Formula__ when $h \\gt 0$ and __Backward Difference Formula__ when $h \\lt 0$"
   ]
  },
  {
   "cell_type": "markdown",
   "metadata": {},
   "source": [
    "#### <u>An Example</u>\n",
    "\n",
    "Suppose $f(x) = \\ln(x)$. We can approximate the derivate of $f(x)$ at $x_0 = 1.8$ for multiple values of $h$ using the forward diffrence formula as follows:\n",
    "\n",
    "$$\n",
    "\\frac{f(1.8 + h) - f(1.8)}{h}\n",
    "$$\n",
    "\n",
    "with $h = 0.1$ we get,\n",
    "\n",
    "$$\n",
    "\\begin{align}\n",
    "&\\frac{\\ln(1.9) - \\ln(1.8)}{0.1}\\\\\n",
    "=&\\frac{0.64185389 - 0.58778667}{0.1}\\\\\n",
    "=&0.5406722\n",
    "\\end{align}\n",
    "$$\n",
    "\n",
    "Because $f''(x) = \\frac{-1}{x^{2}}$ and $1.8 \\lt \\mathcal{E} \\lt 1.9$, a bound for this approximation error is,\n",
    "\n",
    "$$\n",
    "\\begin{align}\n",
    "&\\frac{\\lvert h f''(\\mathcal{E}) \\rvert}{2}\\\\\n",
    "=&\\frac{\\lvert h \\rvert \\lvert f''(\\mathcal{E})\\rvert}{2}\\\\\n",
    "=&\\frac{\\lvert h \\rvert}{2 \\mathcal{E}^{2}}\\\\\n",
    "\\lt&\\frac{0.1}{2(1.8)^{2}}=0.0154321\n",
    "\\end{align}\n",
    "$$"
   ]
  },
  {
   "cell_type": "markdown",
   "metadata": {},
   "source": []
  }
 ],
 "metadata": {
  "kernelspec": {
   "display_name": "Python 3.8.10 64-bit",
   "language": "python",
   "name": "python3"
  },
  "language_info": {
   "name": "python",
   "version": "3.8.10"
  },
  "orig_nbformat": 4,
  "vscode": {
   "interpreter": {
    "hash": "916dbcbb3f70747c44a77c7bcd40155683ae19c65e1c03b4aa3499c5328201f1"
   }
  }
 },
 "nbformat": 4,
 "nbformat_minor": 2
}
