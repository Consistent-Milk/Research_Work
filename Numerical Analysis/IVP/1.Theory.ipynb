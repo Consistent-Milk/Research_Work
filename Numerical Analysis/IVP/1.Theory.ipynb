{
 "cells": [
  {
   "cell_type": "markdown",
   "metadata": {},
   "source": [
    "__Definition 1:__ A function $f(t,y)$ is said to satisfy a __Lipschitz Condition__ in the variable $y$ on a set $D \\sub \\R^{2}$ if a \n",
    "constant $L \\gt 0$ exists with,\n",
    "\n",
    "$$\n",
    "|f(t, y_1) - f(t, y_2)| \\le L|y_1 - y_2|\n",
    "$$\n",
    "\n",
    "whenever $(t,y_1), (t, y_2) \\in D$. The constant $L$ is called a __Lipschitz Constant__ for $f(t,y)$.\n",
    "\n",
    "__Definition 2:__ A set $D \\sub \\R^{2}$ is said to be __convex__ if whenever $(t,y_1), (t, y_2) \\in D$, then\n",
    "$$\n",
    "((1-\\lambda)t_1 + \\lambda t_2, (1-\\lambda)y_1 + \\lambda y_2) \\in D \\hspace{0.2cm} \\forall \\lambda \\in [0, 1]\n",
    "$$"
   ]
  },
  {
   "cell_type": "markdown",
   "metadata": {},
   "source": []
  }
 ],
 "metadata": {
  "kernelspec": {
   "display_name": "Python 3.9.12 ('tf')",
   "language": "python",
   "name": "python3"
  },
  "language_info": {
   "name": "python",
   "version": "3.9.12"
  },
  "orig_nbformat": 4,
  "vscode": {
   "interpreter": {
    "hash": "d6364572a05610c145f7348150b927d4800d35aff954ebf5201318569ffcf301"
   }
  }
 },
 "nbformat": 4,
 "nbformat_minor": 2
}
