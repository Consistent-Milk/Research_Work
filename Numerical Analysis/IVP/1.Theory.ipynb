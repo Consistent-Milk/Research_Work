{
 "cells": [
  {
   "cell_type": "markdown",
   "metadata": {},
   "source": [
    "__Definition 1:__ A function $f(t,y)$ is said to satisfy a __Lipschitz Condition__ in the variable $y$ on a set $D \\sub \\R^{2}$ if a \n",
    "constant $L \\gt 0$ exists with,\n",
    "\n",
    "$$\n",
    "|f(t, y_1) - f(t, y_2)| \\le L|y_1 - y_2|\n",
    "$$\n",
    "\n",
    "whenever $(t,y_1), (t, y_2) \\in D$. The constant $L$ is called a __Lipschitz Constant__ for $f(t,y)$.\n",
    "\n",
    "__Definition 2:__ A set $D \\sub \\R^{2}$ is said to be __convex__ if whenever $(t,y_1), (t, y_2) \\in D$, then\n",
    "$$\n",
    "((1-\\lambda)t_1 + \\lambda t_2, (1-\\lambda)y_1 + \\lambda y_2) \\in D \\hspace{0.2cm} \\forall \\lambda \\in [0, 1]\n",
    "$$"
   ]
  },
  {
   "cell_type": "markdown",
   "metadata": {},
   "source": [
    "__Theorem 1:__ Suppose $f(t,y)$ is defined on a convex set $D \\sub \\R^{2}$. If a constant $L \\gt 0$ exists with,\n",
    "\n",
    "$$\n",
    "\\bigl| \\frac{\\partial f}{\\partial y}(t, y) \\bigl| \\le L, \\hspace{0.2cm} \\forall \\hspace{0.2cm} (t,y) \\in D,\n",
    "$$\n",
    "\n",
    "then $f(t,y)$ satisfies a Lipschitz condition on $D$ in the variable $y$ with Lipschitz constant $L$.\n",
    "\n",
    "__Theorem 2:__ Suppose that $D = \\{(t,y)| a \\le t \\le b \\hspace{0.2cm} and \\hspace{0.2cm} -\\infty \\lt y \\lt \\infty\\}$ and that $f(t,y)$ is continuous on $D$. If $f$ satisfies a Lipschitz condition on $D$ in the variable $y$, then the IVP,\n",
    "\n",
    "$$\n",
    "\\frac{dy}{dt} = f(t,y), \\hspace{0.2cm} t \\in [a, b], \\hspace{0.2cm} y(a) = \\alpha\n",
    "$$\n",
    "\n",
    "has a unique solution $y(t)$ for $t \\in [a,b]$."
   ]
  },
  {
   "cell_type": "markdown",
   "metadata": {},
   "source": [
    "__Definition 3:__ The IVP,\n",
    "\n",
    "$$\n",
    "\\frac{dy}{dt} = f(t,y), \\hspace{0.2cm} t \\in [a, b], \\hspace{0.2cm} y(a) = \\alpha\n",
    "$$\n",
    "\n",
    "is said to be a __Well-Posed Problem__ if,\n",
    "\n",
    "1. A unique solution $y(t)$, to the problem exists, and\n",
    "2. There exists constants $\\epsilon_0 \\gt 0$ and $k \\gt 0$ such that for any $\\epsilon$, with $\\epsilon_0 \\gt \\epsilon \\gt 0$, whenever $\\delta(t)$ is continuous with $|\\delta(t)| \\lt \\epsilon$ for all $t \\in [a,b]$, and when $|\\delta_0| \\lt \\epsilon$, the IVP,\n",
    "\n",
    "$$\n",
    "\\frac{dz}{dt} = f(t, z) + \\delta(t), \\hspace{0.2cm} t \\in [a,b], \\hspace{0.2cm} z(a) = \\alpha + \\delta_0\n",
    "$$\n",
    "\n",
    "has a unique solution $z(t)$ that satisfies, \n",
    "\n",
    "$$\n",
    "|z(t) - y(t)| \\lt k\\epsilon, \\hspace{0.2cm} \\forall t \\in [a,b]\n",
    "$$\n",
    "\n",
    "The problem specified by __Definition 3__ is called a __perturbed problem__ associated with the original IVP. Any IVP that satisfies __Theorem 2__ is a well-posed problem."
   ]
  }
 ],
 "metadata": {
  "kernelspec": {
   "display_name": "Python 3.8.10 64-bit",
   "language": "python",
   "name": "python3"
  },
  "language_info": {
   "name": "python",
   "version": "3.8.10"
  },
  "orig_nbformat": 4,
  "vscode": {
   "interpreter": {
    "hash": "916dbcbb3f70747c44a77c7bcd40155683ae19c65e1c03b4aa3499c5328201f1"
   }
  }
 },
 "nbformat": 4,
 "nbformat_minor": 2
}
