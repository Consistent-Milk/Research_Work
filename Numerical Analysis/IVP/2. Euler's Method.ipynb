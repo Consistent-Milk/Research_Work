{
 "cells": [
  {
   "cell_type": "markdown",
   "metadata": {},
   "source": [
    "### Euler's Method\n",
    "\n",
    "The object of Euler's Method is to obtain approximations to the __well-posed__ IVP,\n",
    "\n",
    "$$\n",
    "\\frac{dy}{dt} = f(t,y), \\hspace{0.2cm} t \\in [a,b], \\hspace{0.2cm} y(a) = \\alpha\n",
    "$$\n",
    "\n",
    "A continuous approximation to the solution $y(t)$ will not be obtained, instead approximations at various specific values called __mesh points__, in the interval $[a,b]$ will be obtained.\n",
    "\n",
    "Once the approximate solution is obtained at the __mesh points__, the approximate solution at the other points in the interval can be found by interpolation."
   ]
  },
  {
   "cell_type": "markdown",
   "metadata": {},
   "source": [
    "We first ensure that the mesh points are equally distributed throughout the interval $[a,b]$. The condition is ensured by taking a fixed positive interger $N$, and defining,\n",
    "\n",
    "$$\n",
    "t_i = a + ih, \\hspace{0.2cm} where \\hspace{0.2cm} i = 1, 2, 3, ... , N \\\\\n",
    "h = \\frac{b-a}{N} = t_{i+1} - t_{i}\n",
    "$$\n",
    "\n",
    "Here $h$ is the common distance between two consecutive mesh points."
   ]
  },
  {
   "cell_type": "markdown",
   "metadata": {},
   "source": [
    "### Derivation Using Taylor's Expansion\n",
    "\n",
    "Suppose that $y(t)$, the unique solution to the IVP, has first and second derivatives that are continuous on $[a,b]$, so that for each $i=0,1,2,...,N-1$,\n",
    "\n",
    "$$\n",
    "\\begin{align*}\n",
    "y(t_{i+1}) = y(t_i) + (t_{i+1} - t_{i})y'(t_i) + \\frac{(t_{i+1} - t_i)^{2}}{2} y''(\\mathcal{E}_i), \\hspace{0.2cm}  \\text{where} \\hspace{0.2cm} \\mathcal{E}_i \\in (t_{i}, t_{i+1}) \\\\\n",
    "\\implies y(t_{i+1}) = y(t_i) + hy'(t_i) + \\frac{h^{2}}{2}y''(\\mathcal{E}_i), \\hspace{0.2cm}  \\text{where} \\hspace{0.2cm} \\mathcal{E}_i \\in (t_{i}, t_{i+1}) \\\\\n",
    "\\text{As} \\hspace{0.2cm} y(t) \\hspace{0.2cm} \\text{satisfies the IVP, we can subsitute} \\hspace{0.2cm} y'(t) \\hspace{0.2cm} \\text{with} \\hspace{0.2cm} f(t, y(t)), \\\\\n",
    "\\implies y(t_{i+1}) = y(t_i) + hf(t_i, y(t_i)) + \\frac{h^2}{2} y''(\\mathcal{E}_i)\n",
    "\\end{align*}\n",
    "$$\n",
    "\n",
    "Euler's Method constructs $w(i) \\approx y(t_i)$, for each $i=1,2,...,N$ by deleting the remainder term. Thus the form of Euler's method becomes,\n",
    "\n",
    "$$\n",
    "\\begin{align*}\n",
    "w_0 = \\alpha,\\\\ \n",
    "w_{i+1} = w_i + hf(t_i, w_i), \\hspace{0.2cm} \\text{for each} \\hspace{0.2cm} i = 0, 1, ..., N-1\n",
    "\\end{align*}\n",
    "$$"
   ]
  },
  {
   "cell_type": "markdown",
   "metadata": {},
   "source": [
    "### Example\n",
    "\n",
    "We will prove that the IVP,\n",
    "\n",
    "$$\n",
    "\\frac{dy}{dt} = y - t^{2} + 1, \\hspace{0.2cm} t \\in [0,2], \\hspace{0.2cm} y(0)=0.5\n",
    "$$\n",
    "\n",
    "is well-posed on $D = \\{(t,y)| t \\in [0, 2], y \\in (-\\infty,\\infty)\\}$.\n",
    "\n",
    "__Proof:__\n",
    "\n",
    "Here,\n",
    "\n",
    "$$\n",
    "\\begin{align*}\n",
    "\\Bigl|\\frac{\\partial (y - t^{2} +1)}{\\partial y}\\Bigl| = |1| = 1\n",
    "\\end{align*}\n",
    "$$\n",
    "\n",
    "Then by __Theorem 1__ provided in the theory section, $f(t,y) = y - t^{2} + 1$ satisfies a Lipschitz condition in $y$ on $D$ with Lipschitz constant $1$. Furthermore, as $f$ is continous on $D$, by __Definition 3__, this then is a well-posed problem. \n",
    "\n",
    "Let us consider the the solution to the perturbed problem, \n",
    "\n",
    "$$\n",
    "\\frac{dz}{dt} = z - t^{2} + 1 + \\delta, \\hspace{0.2cm} t \\in [0,2], \\hspace{0.2cm} z(0) = 0.5 + \\delta_0\n",
    "$$\n",
    "\n",
    "where $\\delta$ and $\\delta_0$ are constants. The solutions to the original IVP and its corresponding perturbed problem are given by, \n",
    "\n",
    "$$\n",
    "(i) \\hspace{0.2cm} y(t) = (t+1)^{2} - 0.5 e^{t} \\\\[0.2cm]\n",
    "(ii) \\hspace{0.2cm} z(t) = (t+1)^{2} + (\\delta + \\delta_0 -0.5)e^{t} - \\delta\n",
    "$$\n",
    "\n",
    "Suppose that $\\epsilon$ is a positive number. If $|\\delta| \\lt \\epsilon$ and $|\\delta_0| \\lt \\epsilon$, then,\n",
    "\n",
    "$$\n",
    "\\begin{align*}\n",
    "|y(t) - z(t)| = |(\\delta + \\delta_0)e^{t} - \\delta| \\\\\n",
    "\\implies |y(t) - z(t)| \\le |\\delta + \\delta_0|e^2 + |\\delta| \\\\\n",
    "\\implies |y(t) - z(t)| \\le (2e^{2} + 1)\\epsilon, \\hspace{0.2cm} \\forall t \\in [0,2]\n",
    "\\end{align*}\n",
    "$$\n",
    "\n",
    "Hence, this implies that the original problem is well-posed with $k(\\epsilon) = 2e^{2} + 1, \\hspace{0.2cm} \\forall \\epsilon \\gt 0$ "
   ]
  },
  {
   "cell_type": "markdown",
   "metadata": {},
   "source": [
    "## Implementation"
   ]
  },
  {
   "cell_type": "code",
   "execution_count": 1,
   "metadata": {},
   "outputs": [],
   "source": [
    "import numpy as np\n",
    "import sympy as sm\n",
    "import pandas as pd\n",
    "import matplotlib.pyplot as plt\n",
    "import seaborn as sns\n",
    "import pandas as pd\n",
    "sns.set()"
   ]
  },
  {
   "cell_type": "code",
   "execution_count": 19,
   "metadata": {},
   "outputs": [],
   "source": [
    "class EulerMethod:\n",
    "\n",
    "    def __init__(self, f, a, b, N, t_0, y_0):\n",
    "        self.f = f \n",
    "        self.a = a\n",
    "        self.b = b\n",
    "        self.N = N\n",
    "        self.t_0 = t_0\n",
    "        self.y_0 = y_0\n",
    "        self.h = (b-a)/N\n",
    "    \n",
    "    def euler_method(self):\n",
    "        mesh_points = np.arange(self.a, self.b+self.h, self.h)\n",
    "        functional_values = np.zeros(self.N+1)\n",
    "        functional_values[0] = self.y_0\n",
    "\n",
    "        for i in range(0, self.N):\n",
    "            functional_values[i+1] = functional_values[i] + self.h*self.f(mesh_points[i], functional_values[i]) \n",
    "\n",
    "        return mesh_points, functional_values\n",
    "\n",
    "    def euler_table(self):\n",
    "        var_1, var_2 = self.euler_method()\n",
    "        df = pd.DataFrame({\"t\":var_1, \"y\":var_2})\n",
    "        return df     "
   ]
  },
  {
   "cell_type": "code",
   "execution_count": 20,
   "metadata": {},
   "outputs": [],
   "source": [
    "def function(t, y):\n",
    "    return y - t**2 + 1"
   ]
  },
  {
   "cell_type": "code",
   "execution_count": 21,
   "metadata": {},
   "outputs": [],
   "source": [
    "euler_instance = EulerMethod(function, 0, 2, 10, 0, 0.5)"
   ]
  },
  {
   "cell_type": "code",
   "execution_count": 22,
   "metadata": {},
   "outputs": [],
   "source": [
    "df = euler_instance.euler_table()"
   ]
  },
  {
   "cell_type": "code",
   "execution_count": 26,
   "metadata": {},
   "outputs": [
    {
     "data": {
      "text/html": [
       "<div>\n",
       "<style scoped>\n",
       "    .dataframe tbody tr th:only-of-type {\n",
       "        vertical-align: middle;\n",
       "    }\n",
       "\n",
       "    .dataframe tbody tr th {\n",
       "        vertical-align: top;\n",
       "    }\n",
       "\n",
       "    .dataframe thead th {\n",
       "        text-align: right;\n",
       "    }\n",
       "</style>\n",
       "<table border=\"1\" class=\"dataframe\">\n",
       "  <thead>\n",
       "    <tr style=\"text-align: right;\">\n",
       "      <th></th>\n",
       "      <th>t</th>\n",
       "      <th>y</th>\n",
       "    </tr>\n",
       "  </thead>\n",
       "  <tbody>\n",
       "    <tr>\n",
       "      <th>0</th>\n",
       "      <td>0.0</td>\n",
       "      <td>0.500000</td>\n",
       "    </tr>\n",
       "    <tr>\n",
       "      <th>1</th>\n",
       "      <td>0.2</td>\n",
       "      <td>0.800000</td>\n",
       "    </tr>\n",
       "    <tr>\n",
       "      <th>2</th>\n",
       "      <td>0.4</td>\n",
       "      <td>1.152000</td>\n",
       "    </tr>\n",
       "    <tr>\n",
       "      <th>3</th>\n",
       "      <td>0.6</td>\n",
       "      <td>1.550400</td>\n",
       "    </tr>\n",
       "    <tr>\n",
       "      <th>4</th>\n",
       "      <td>0.8</td>\n",
       "      <td>1.988480</td>\n",
       "    </tr>\n",
       "    <tr>\n",
       "      <th>5</th>\n",
       "      <td>1.0</td>\n",
       "      <td>2.458176</td>\n",
       "    </tr>\n",
       "    <tr>\n",
       "      <th>6</th>\n",
       "      <td>1.2</td>\n",
       "      <td>2.949811</td>\n",
       "    </tr>\n",
       "    <tr>\n",
       "      <th>7</th>\n",
       "      <td>1.4</td>\n",
       "      <td>3.451773</td>\n",
       "    </tr>\n",
       "    <tr>\n",
       "      <th>8</th>\n",
       "      <td>1.6</td>\n",
       "      <td>3.950128</td>\n",
       "    </tr>\n",
       "    <tr>\n",
       "      <th>9</th>\n",
       "      <td>1.8</td>\n",
       "      <td>4.428154</td>\n",
       "    </tr>\n",
       "    <tr>\n",
       "      <th>10</th>\n",
       "      <td>2.0</td>\n",
       "      <td>4.865785</td>\n",
       "    </tr>\n",
       "  </tbody>\n",
       "</table>\n",
       "</div>"
      ],
      "text/plain": [
       "      t         y\n",
       "0   0.0  0.500000\n",
       "1   0.2  0.800000\n",
       "2   0.4  1.152000\n",
       "3   0.6  1.550400\n",
       "4   0.8  1.988480\n",
       "5   1.0  2.458176\n",
       "6   1.2  2.949811\n",
       "7   1.4  3.451773\n",
       "8   1.6  3.950128\n",
       "9   1.8  4.428154\n",
       "10  2.0  4.865785"
      ]
     },
     "execution_count": 26,
     "metadata": {},
     "output_type": "execute_result"
    }
   ],
   "source": [
    "df.head(11)"
   ]
  },
  {
   "cell_type": "code",
   "execution_count": 27,
   "metadata": {},
   "outputs": [],
   "source": [
    "def solution(t):\n",
    "    return (t+1)**2 - 0.5*np.e**t"
   ]
  },
  {
   "cell_type": "code",
   "execution_count": 28,
   "metadata": {},
   "outputs": [],
   "source": [
    "solution_x = np.linspace(0, 2)\n",
    "solution_y = np.array([solution(x) for x in solution_x])"
   ]
  },
  {
   "cell_type": "code",
   "execution_count": 29,
   "metadata": {},
   "outputs": [
    {
     "data": {
      "image/png": "[encoded data removed]",
      "text/plain": [
       "<Figure size 432x288 with 1 Axes>"
      ]
     },
     "metadata": {
      "needs_background": "light"
     },
     "output_type": "display_data"
    }
   ],
   "source": [
    "sns.lineplot(x=solution_x, y=solution_y)\n",
    "sns.scatterplot(x='t', y='y', data=df)\n",
    "plt.title(\"Actual Solution vs Approximate Solution\")\n",
    "plt.show()"
   ]
  },
  {
   "cell_type": "code",
   "execution_count": null,
   "metadata": {},
   "outputs": [],
   "source": []
  }
 ],
 "metadata": {
  "kernelspec": {
   "display_name": "Python 3.9.12 ('tf')",
   "language": "python",
   "name": "python3"
  },
  "language_info": {
   "codemirror_mode": {
    "name": "ipython",
    "version": 3
   },
   "file_extension": ".py",
   "mimetype": "text/x-python",
   "name": "python",
   "nbconvert_exporter": "python",
   "pygments_lexer": "ipython3",
   "version": "3.9.12"
  },
  "orig_nbformat": 4,
  "vscode": {
   "interpreter": {
    "hash": "d6364572a05610c145f7348150b927d4800d35aff954ebf5201318569ffcf301"
   }
  }
 },
 "nbformat": 4,
 "nbformat_minor": 2
}
