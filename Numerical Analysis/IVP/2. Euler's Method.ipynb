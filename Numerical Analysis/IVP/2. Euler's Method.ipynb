{
 "cells": [
  {
   "cell_type": "markdown",
   "metadata": {},
   "source": [
    "### Euler's Method\n",
    "\n",
    "The object of Euler's Method is to obtain approximations to the __well-posed__ IVP,\n",
    "\n",
    "$$\n",
    "\\frac{dy}{dt} = f(t,y), \\hspace{0.2cm} t \\in [a,b], \\hspace{0.2cm} y(a) = \\alpha\n",
    "$$\n",
    "\n",
    "A continuous approximation to the solution $y(t)$ will not be obtained, instead approximations at various specific values called __mesh points__, in the interval $[a,b]$ will be obtained.\n",
    "\n",
    "Once the approximate solution is obtained at the __mesh points__, the approximate solution at the other points in the interval can be found by interpolation."
   ]
  },
  {
   "cell_type": "markdown",
   "metadata": {},
   "source": [
    "We first ensure that the mesh points are equally distributed throughout the interval $[a,b]$. The condition is ensured by taking a fixed positive interger $N$, and defining,\n",
    "\n",
    "$$\n",
    "t_i = a + ih, \\hspace{0.2cm} where \\hspace{0.2cm} i = 1, 2, 3, ... , N \\\\\n",
    "h = \\frac{b-a}{N} = t_{i+1} - t_{i}\n",
    "$$\n",
    "\n",
    "Here $h$ is the common distance between two consecutive mesh points."
   ]
  },
  {
   "cell_type": "markdown",
   "metadata": {},
   "source": [
    "### Derivation Using Taylor's Expansion\n",
    "\n",
    "Suppose that $y(t)$, the unique solution to the IVP, has first and second derivatives that are continuous on $[a,b]$, so that for each $i=0,1,2,...,N-1$,\n",
    "\n",
    "$$\n",
    "\\begin{align*}\n",
    "y(t_{i+1}) = y(t_i) + (t_{i+1} - t_{i})y'(t_i) + \\frac{(t_{i+1} - t_i)^{2}}{2} y''(\\mathcal{E}_i), \\hspace{0.2cm}  \\text{where} \\hspace{0.2cm} \\mathcal{E}_i \\in (t_{i}, t_{i+1}) \\\\\n",
    "\\implies y(t_{i+1}) = y(t_i) + hy'(t_i) + \\frac{h^{2}}{2}y''(\\mathcal{E}_i), \\hspace{0.2cm}  \\text{where} \\hspace{0.2cm} \\mathcal{E}_i \\in (t_{i}, t_{i+1}) \\\\\n",
    "\\text{As} \\hspace{0.2cm} y(t) \\hspace{0.2cm} \\text{satisfies the IVP, we can subsitute} \\hspace{0.2cm} y'(t) \\hspace{0.2cm} \\text{with} \\hspace{0.2cm} f(t, y(t)), \\\\\n",
    "\\implies y(t_{i+1}) = y(t_i) + hf(t_i, y(t_i)) + \\frac{h^2}{2} y''(\\mathcal{E}_i)\n",
    "\\end{align*}\n",
    "$$\n",
    "\n",
    "Euler's Method constructs $w(i) \\approx y(t_i)$, for each $i=1,2,...,N$ by deleting the remainder term. Thus the form of Euler's method becomes,\n",
    "\n",
    "$$\n",
    "\\begin{align*}\n",
    "w_0 = \\alpha,\\\\ \n",
    "w_{i+1} = w_i + hf(t_i, w_i), \\hspace{0.2cm} \\text{for each} \\hspace{0.2cm} i = 0, 1, ..., N-1\n",
    "\\end{align*}\n",
    "$$"
   ]
  },
  {
   "cell_type": "markdown",
   "metadata": {},
   "source": [
    "## Implementation"
   ]
  },
  {
   "cell_type": "code",
   "execution_count": 1,
   "metadata": {},
   "outputs": [],
   "source": [
    "import numpy as np\n",
    "import pandas as pd\n",
    "import matplotlib.pyplot as plt\n",
    "import seaborn as sns\n",
    "sns.set()"
   ]
  },
  {
   "cell_type": "code",
   "execution_count": null,
   "metadata": {},
   "outputs": [],
   "source": [
    "class EulerMethod:\n",
    "\n",
    "    def __init__(self, a, b, N, t_0, y_0):\n",
    "        self.a = a\n",
    "        self.b = b\n",
    "        self.t_0 = t_0\n",
    "        self.y_0 = y_0 "
   ]
  }
 ],
 "metadata": {
  "kernelspec": {
   "display_name": "Python 3.9.12 ('tf')",
   "language": "python",
   "name": "python3"
  },
  "language_info": {
   "codemirror_mode": {
    "name": "ipython",
    "version": 3
   },
   "file_extension": ".py",
   "mimetype": "text/x-python",
   "name": "python",
   "nbconvert_exporter": "python",
   "pygments_lexer": "ipython3",
   "version": "3.9.12"
  },
  "orig_nbformat": 4,
  "vscode": {
   "interpreter": {
    "hash": "d6364572a05610c145f7348150b927d4800d35aff954ebf5201318569ffcf301"
   }
  }
 },
 "nbformat": 4,
 "nbformat_minor": 2
}
