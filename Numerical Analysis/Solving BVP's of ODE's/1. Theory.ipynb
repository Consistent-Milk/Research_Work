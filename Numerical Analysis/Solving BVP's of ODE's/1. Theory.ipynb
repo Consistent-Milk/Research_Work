{
 "cells": [
  {
   "cell_type": "markdown",
   "metadata": {},
   "source": [
    "### The Linear Shooting Method"
   ]
  },
  {
   "cell_type": "markdown",
   "metadata": {},
   "source": [
    "__Theorem 1:__ Suppose the function $f$ in the BVP,\n",
    "\n",
    "$\\hspace{5cm}$ $y'' = f(x, y, y')$ for $x \\in [a,b]$, with $y(a) = \\alpha$ and $y(b) = \\beta$\n",
    "\n",
    "is continuous on the set,\n",
    "\n",
    "$\\hspace{5cm}$ $D = \\{(x, y, y') |$ for $x \\in [a, b],$ with $y \\in (-\\infty, \\infty)$ and $y' \\in (-\\infty, \\infty) \\}$\n",
    "\n",
    "and that partial derivatives $f_{y}$ and $f_{y'}$ are also continuous on $D$. If,\n",
    "1. $f_{y}(x, y, y') \\gt 0$, for all $(x, y, y') \\in D$, and\n",
    "2. a constant $M$ exists with,\n",
    "\n",
    "$$\n",
    "|f_{y^{'}}(x, y, y')| \\le M \\hspace{0.2cm} \\forall (x,y,y') \\in D,\n",
    "$$\n",
    "\n",
    "then the BVP has a unique solution.\n",
    " "
   ]
  },
  {
   "cell_type": "markdown",
   "metadata": {},
   "source": []
  }
 ],
 "metadata": {
  "kernelspec": {
   "display_name": "Python 3.9.12 ('tf')",
   "language": "python",
   "name": "python3"
  },
  "language_info": {
   "name": "python",
   "version": "3.9.12"
  },
  "orig_nbformat": 4,
  "vscode": {
   "interpreter": {
    "hash": "d6364572a05610c145f7348150b927d4800d35aff954ebf5201318569ffcf301"
   }
  }
 },
 "nbformat": 4,
 "nbformat_minor": 2
}
