{
 "cells": [
  {
   "cell_type": "markdown",
   "metadata": {},
   "source": [
    "__Definition 1: Upper and Lower Sum__\n",
    "\n",
    "---\n",
    "\n",
    "A partition $P$ of $[a,b]$ is a finite, ordered set,\n",
    "\n",
    "$$\n",
    "P = \\{a = x_0 < x_1 < x_2 < ... < x_n = b\\}\n",
    "$$\n",
    "\n",
    "For each sub-interval $[x_{k-1}, x_{k}]$ of $P$, let,\n",
    "\n",
    "$$\n",
    "\\begin{align*}\n",
    "m_k &= inf\\{f(x) : x \\in [x_{k-1}, x_k]\\} \\quad and, \\\\\n",
    "M_k &= sup\\{f(x) : x \\in [x_{k-1}, x_k]\\}\n",
    "\\end{align*}\n",
    "$$\n",
    "\n",
    "The __Lower Sum__ of $f$ with respect to $P$ is given by,\n",
    "\n",
    "$$\n",
    "\\begin{align*}\n",
    "L(f, P) &= \\sum_{k}^{n} m_k (x_k - x_{k-1})\n",
    "\\end{align*}\n",
    "$$\n",
    "\n",
    "and the __Upper Sum__ of $f$ with respect to $P$ is given by,\n",
    "\n",
    "$$\n",
    "\\begin{align*}\n",
    "U(f, P) &= \\sum_{k}^{n} M_k (x_k - x_{k-1})\n",
    "\\end{align*}\n",
    "$$"
   ]
  },
  {
   "cell_type": "markdown",
   "metadata": {},
   "source": [
    "__Definition 2: Refinement__\n",
    "\n",
    "---\n",
    "\n",
    "A partition $Q$ is a __refinement__ of $P$ if $P \\subseteq Q$, i.e., $Q$ contains all points of $P$."
   ]
  },
  {
   "cell_type": "markdown",
   "metadata": {},
   "source": [
    "__Theorem 1__\n",
    "\n",
    "---\n",
    "\n",
    "If $P \\subseteq Q$, then $L(f,P) \\le L(f,Q)$ and $U(f,P) \\ge U(f,Q)$.\n",
    "\n",
    "__Theorem 2__\n",
    "\n",
    "---\n",
    "\n",
    "If $P_1$ and $P_2$ are any two partitions of $[a,b]$, then $L(f, P_1) \\le U(f,P_2)$."
   ]
  },
  {
   "cell_type": "markdown",
   "metadata": {},
   "source": [
    "__Definition 3: Upper and Lower Integrals__\n",
    "\n",
    "---\n",
    "\n",
    "Let $\\mathcal{P}$ be the collection of all possible partitions of the interval $[a,b]$. The __upper integral__ of $f$ is defined to be,\n",
    "\n",
    "$$\n",
    "\\begin{align*}\n",
    "U(f) = inf\\{U(f, P): P \\in \\mathcal{P}\\}\n",
    "\\end{align*}\n",
    "$$\n",
    "\n",
    "and the __lower integral__ of $f$ is defined to be,\n",
    "\n",
    "$$\n",
    "\\begin{align*}\n",
    "L(f) = sup\\{L(f, P): P \\in \\mathcal{P}\\}\n",
    "\\end{align*}\n",
    "$$"
   ]
  },
  {
   "cell_type": "markdown",
   "metadata": {},
   "source": [
    "__Theorem 3__\n",
    "\n",
    "---\n",
    "\n",
    "For any bounded function $f$ on $[a,b]$ it is always the case that, $U(f) \\gt L(f)$."
   ]
  },
  {
   "cell_type": "markdown",
   "metadata": {},
   "source": [
    "__Definition 4: Riemann Integrability__\n",
    "\n",
    "---\n",
    "\n",
    "A bounded function $f$ defined on the closed interval $[a,b]$ is __Riemann-Integrable__ if $U(f) = L(f)$. In this case we write,\n",
    "\n",
    "$$\n",
    "\\begin{align*}\n",
    "\\int_{a}^{b} f = U(f) = L(f)\n",
    "\\end{align*}\n",
    "$$"
   ]
  },
  {
   "cell_type": "markdown",
   "metadata": {},
   "source": [
    "__Theorem 4__\n",
    "\n",
    "---\n",
    "\n",
    "A bounded function is integrable on $[a,b]$ if and only if, for every $\\epsilon \\gt 0$, there exists a partition $P_{\\epsilon}$ of $[a,b]$ such that,\n",
    "\n",
    "$$\n",
    "\\begin{align*}\n",
    "U(f, P_{\\epsilon}) - L(f, P_{\\epsilon}) < \\epsilon\n",
    "\\end{align*}\n",
    "$$"
   ]
  },
  {
   "cell_type": "markdown",
   "metadata": {},
   "source": [
    "__Theorem 5__\n",
    "\n",
    "---\n",
    "\n",
    "If $f$ is continous on $[a,b]$, then it is integrable on $[a,b]$. "
   ]
  },
  {
   "cell_type": "markdown",
   "metadata": {},
   "source": [
    "__Points of Interest__\n",
    "\n",
    "---\n",
    "\n",
    "The basic interpretation of Riemann Integral is defined for closed or bounded intervals with the restriction that the function be bounded on that interval. In case of integrals that have unbounded intervals or have discontinuities in its domain of integration then further extensions of the usual interpretation of the Riemann Integral is necessary. \n",
    "\n",
    "It follows that Riemann Integrals cannot interpret a large class of integrals that involves unbounded integration intervals, or have discontinuities in its domain of integration. The Gaussian integral, $\\int_{-\\infty}^{\\infty} e^{x^{2}}dx$, unfortunately is one of those integrals that cannot be interpreted using the usual Riemann Integral.\n",
    "\n",
    "Thus we have to divert our attention from the theory of the usual Riemann Integral and focus on two different interprations of the integral:\n",
    "\n",
    "1. The Generalized Riemann Integral or Henstock–Kurzweil Integral\n",
    "2. Lebesgue Integral\n",
    "\n",
    "It should be noted that the __Wide Denjoy Integral or Khinchin Integral__ is another definition of the integral that generalizes over both of the above integrals, but for our purposes these two defintions of integrals will suffice.  \n",
    "\n",
    "We are more interested in the __Lebesgue Integral__ because it also allows us to delve into __Lebesgue Measure__ and then develop an axiomatic theoretical framework based on this for Probability Theory - which is crucial for our theoretical study of Deep Learning Models. "
   ]
  },
  {
   "cell_type": "markdown",
   "metadata": {},
   "source": []
  }
 ],
 "metadata": {
  "kernelspec": {
   "display_name": "Python 3.9.12 ('tf')",
   "language": "python",
   "name": "python3"
  },
  "language_info": {
   "name": "python",
   "version": "3.9.12"
  },
  "orig_nbformat": 4,
  "vscode": {
   "interpreter": {
    "hash": "d6364572a05610c145f7348150b927d4800d35aff954ebf5201318569ffcf301"
   }
  }
 },
 "nbformat": 4,
 "nbformat_minor": 2
}
