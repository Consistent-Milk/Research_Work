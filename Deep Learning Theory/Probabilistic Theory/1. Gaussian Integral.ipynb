{
 "cells": [
  {
   "cell_type": "markdown",
   "metadata": {},
   "source": [
    "### Gaussian Integral"
   ]
  },
  {
   "cell_type": "markdown",
   "metadata": {},
   "source": [
    "The __Gaussian__ function $f(z) = exp(-z^2)$ produces a bell shaped curve that has broad use cases in various areas of science. Deep Learning Models also rely heavily on probability distributions that belong to the same group of __Exponential Probability Density Functions__. "
   ]
  },
  {
   "cell_type": "code",
   "execution_count": 1,
   "metadata": {},
   "outputs": [],
   "source": [
    "import numpy as np\n",
    "import matplotlib.pyplot as plt\n",
    "import seaborn as sns\n",
    "sns.set()"
   ]
  },
  {
   "cell_type": "code",
   "execution_count": 15,
   "metadata": {},
   "outputs": [],
   "source": [
    "x = np.linspace(-5,5, 100)\n",
    "y = np.e**(-x**2)"
   ]
  },
  {
   "cell_type": "code",
   "execution_count": 17,
   "metadata": {},
   "outputs": [
    {
     "data": {
      "image/png": "[encoded data removed]",
      "text/plain": [
       "<Figure size 432x288 with 1 Axes>"
      ]
     },
     "metadata": {
      "needs_background": "light"
     },
     "output_type": "display_data"
    }
   ],
   "source": [
    "sns.lineplot(x=x, y=y)\n",
    "plt.title(\"Figure - 1\")\n",
    "plt.show()"
   ]
  },
  {
   "cell_type": "markdown",
   "metadata": {},
   "source": [
    "### Evaluating the Gaussian Integral\n",
    "\n",
    "There are various methods of evaluting the integral,\n",
    "\n",
    "$$\n",
    "\\int_{-\\infty}^{\\infty} e^{-z^{2}}\\mathrm dz\n",
    "$$\n",
    "\n",
    "that is the area under the curve shown in __Figure-1__. A \"trick\" method that is historically said to be first used by the profilic Mathematican Poisson is as follows,\n",
    "\n",
    "$$\n",
    "\\begin{align*}\n",
    "I&= \\int_{-\\infty}^{\\infty} e^{-z^{2}}dz \\\\\n",
    "I^2 &= \\left(\\int_{-\\infty}^{\\infty} e^{-z^{2}}\\mathrm dz\\right)^{2}\n",
    "\\end{align*}\n",
    "$$\n",
    "\n",
    "Here we split the square into a product of two equivalent parts and change the dummy variable $z$ with the dummy variables $x$ and $y$ respectively and get,\n",
    "\n",
    "$$\n",
    "I^2 = \\left(\\int_{-\\infty}^{\\infty} e^{-x^{2}}\\mathrm dx\\right)\\left(\\int_{-\\infty}^{\\infty} e^{-x^{2}}\\mathrm dy\\right)\n",
    "$$\n",
    "\n",
    "Then we change it into a double iterated integral,\n",
    "\n",
    "$$\n",
    "I^2 = \\int_{-\\infty}^{\\infty} \\int_{-\\infty}^{\\infty}e^{-(x^{2} + y^{2})}\\mathrm dx \\mathrm dy\n",
    "$$\n",
    "\n",
    "Now we can apply the polar transformation $(x,y) = (r\\cos\\theta, r\\sin\\theta)$, which yields $dxdy = rdrd\\theta$ and $x^{2} + y^{2} = r^{2}$,\n",
    "\n",
    "$$\n",
    "\\begin{align*}\n",
    "I^2 &= \\int_{0}^{2 \\pi} \\int_{0}^{\\infty} e^{-r^2}r\\mathrm dr \\mathrm d\\theta \\\\\n",
    "I^2 &= -\\dfrac{1}{2} \\int_{0}^{2 \\pi} \\int_{0}^{\\infty} (-2re^{-r^2})\\mathrm dr \\mathrm d\\theta\n",
    "\\end{align*}\n",
    "$$\n",
    "\n",
    "Applying the formula $\\int{f'(x)e^{f(x)dx}} = f(x) + c$ in the definite case, we obtain,\n",
    "\n",
    "$$\n",
    "\\begin{align*}\n",
    "I^2 &= -\\dfrac{1}{2} \\int_{0}^{2 \\pi} [e^{-r^2}]^{\\infty}_{0}d\\theta\\\\\n",
    "I^2 &= -\\dfrac{1}{2} \\int_{0}^{2 \\pi} [0 - 1] d\\theta\\\\\n",
    "I^2 &= \\dfrac{1}{2} \\int_{0}^{2 \\pi} d\\theta\\\\\n",
    "I^2 &= \\dfrac{1}{2} [\\theta]^{2 \\pi}_{0} \\\\\n",
    "I^2 &= \\dfrac{1}{2} [2\\pi - 0] \\\\\n",
    "I^2 &= \\pi \\\\\n",
    "\\end{align*}\n",
    "$$\n",
    "\n",
    "As the area under the curve cannot be negative, this yields,\n",
    "$$\n",
    "I = \\int_{-\\infty}^{\\infty} e^{-z^{2}}\\mathrm dz = \\sqrt{\\pi}\n",
    "$$"
   ]
  },
  {
   "cell_type": "markdown",
   "metadata": {},
   "source": [
    "### Considerations Regarding the Evaluation Process\n",
    "\n",
    "There are several steps and techniques that have been applied rather liberally while evaluating the Gaussian Integral above and one can safely say that this derivation is not at all __Rigorous__. "
   ]
  }
 ],
 "metadata": {
  "kernelspec": {
   "display_name": "Python 3.9.12 ('tf')",
   "language": "python",
   "name": "python3"
  },
  "language_info": {
   "codemirror_mode": {
    "name": "ipython",
    "version": 3
   },
   "file_extension": ".py",
   "mimetype": "text/x-python",
   "name": "python",
   "nbconvert_exporter": "python",
   "pygments_lexer": "ipython3",
   "version": "3.9.12"
  },
  "orig_nbformat": 4,
  "vscode": {
   "interpreter": {
    "hash": "d6364572a05610c145f7348150b927d4800d35aff954ebf5201318569ffcf301"
   }
  }
 },
 "nbformat": 4,
 "nbformat_minor": 2
}
