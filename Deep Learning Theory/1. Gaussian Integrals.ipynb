{
 "cells": [
  {
   "cell_type": "markdown",
   "metadata": {},
   "source": [
    "$$\\large p(z) = e^{\\frac{z^{2}}{2K}}$$\n",
    "\n",
    "$$ I_k = \\int_{-\\infty}^\\infty e^{\\frac{z^{2}}{2K}}dz$$\n",
    "\n",
    "$${I_k}^2  = ({\\int_{-\\infty}^\\infty e^{\\frac{{z^2}}{2K}}})^2 $$\n",
    "\n",
    "$$     = (\\int_{-\\infty}^\\infty e^{\\frac{{z^2}}{2K}}dz)(\\int_{-\\infty}^\\infty e^{\\frac{{z^2}}{2K}}dz)$$\n",
    "\n",
    "$$     = \\sqrt{2 \\pi K}$$\n"
   ]
  },
  {
   "cell_type": "markdown",
   "metadata": {},
   "source": []
  }
 ],
 "metadata": {
  "kernelspec": {
   "display_name": "Python 3.9.12 ('tf')",
   "language": "python",
   "name": "python3"
  },
  "language_info": {
   "codemirror_mode": {
    "name": "ipython",
    "version": 3
   },
   "file_extension": ".py",
   "mimetype": "text/x-python",
   "name": "python",
   "nbconvert_exporter": "python",
   "pygments_lexer": "ipython3",
   "version": "3.9.12"
  },
  "orig_nbformat": 4,
  "vscode": {
   "interpreter": {
    "hash": "d6364572a05610c145f7348150b927d4800d35aff954ebf5201318569ffcf301"
   }
  }
 },
 "nbformat": 4,
 "nbformat_minor": 2
}
