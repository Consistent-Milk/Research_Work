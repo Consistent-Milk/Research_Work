{
 "cells": [
  {
   "cell_type": "markdown",
   "metadata": {},
   "source": [
    "### Reference: Deep Learning by Francois Chollet"
   ]
  },
  {
   "cell_type": "markdown",
   "metadata": {},
   "source": [
    "### A Basic Example\n",
    "\n",
    "The derivative of a tensor function is called a gradient. Gradients are just generalization of the concept of derivatives to functions that take tensors as inputs. \n",
    "\n",
    "The gradient of a tensor function represents the curvature of the multidimensional surface described by the function. It characterizes how the output of the function varies when its input parameters vary."
   ]
  },
  {
   "cell_type": "code",
   "execution_count": 1,
   "metadata": {},
   "outputs": [],
   "source": [
    "import tensorflow as tf\n",
    "from tensorflow import keras as kr"
   ]
  },
  {
   "cell_type": "code",
   "execution_count": 9,
   "metadata": {},
   "outputs": [],
   "source": [
    "import matplotlib.pyplot as plt"
   ]
  },
  {
   "cell_type": "code",
   "execution_count": 32,
   "metadata": {},
   "outputs": [],
   "source": [
    "import numpy as np"
   ]
  },
  {
   "cell_type": "code",
   "execution_count": 2,
   "metadata": {},
   "outputs": [],
   "source": [
    "# We will again work with the MNIST dataset\n",
    "(train_images, train_labels), (test_images, test_labels) = kr.datasets.mnist.load_data()"
   ]
  },
  {
   "cell_type": "code",
   "execution_count": 4,
   "metadata": {},
   "outputs": [
    {
     "name": "stdout",
     "output_type": "stream",
     "text": [
      "The shape of training images dataset is : (60000, 28, 28)\n",
      "The shape of testing images dataset is : (10000, 28, 28)\n"
     ]
    }
   ],
   "source": [
    "print(f\"The shape of training images dataset is : {train_images.shape}\")\n",
    "print(f\"The shape of testing images dataset is : {test_images.shape}\")"
   ]
  },
  {
   "cell_type": "code",
   "execution_count": 18,
   "metadata": {},
   "outputs": [
    {
     "name": "stdout",
     "output_type": "stream",
     "text": [
      "Each image is represented as an array of shape: (28, 28)\n"
     ]
    },
    {
     "data": {
      "image/png": "[encoded data removed]",
      "text/plain": [
       "<Figure size 432x288 with 1 Axes>"
      ]
     },
     "metadata": {
      "needs_background": "light"
     },
     "output_type": "display_data"
    },
    {
     "data": {
      "image/png": "[encoded data removed]",
      "text/plain": [
       "<Figure size 432x288 with 1 Axes>"
      ]
     },
     "metadata": {
      "needs_background": "light"
     },
     "output_type": "display_data"
    },
    {
     "data": {
      "image/png": "[encoded data removed]",
      "text/plain": [
       "<Figure size 432x288 with 1 Axes>"
      ]
     },
     "metadata": {
      "needs_background": "light"
     },
     "output_type": "display_data"
    }
   ],
   "source": [
    "print(\n",
    "    f\"Each image is represented as an array of shape: {train_images[0].shape}\")\n",
    "\"\"\"\n",
    "We can look at each image using various tools, here we use matplotlib and generate a\n",
    "reverse graymap image, graymap image, and a default setting('viridis') image from an array for better visualtion\n",
    "\"\"\"\n",
    "plt.imshow(train_images[4], cmap='gray_r')\n",
    "plt.show()\n",
    "\n",
    "plt.imshow(train_images[4], cmap='gray')\n",
    "plt.show()\n",
    "\n",
    "plt.imshow(train_images[4])\n",
    "plt.show()"
   ]
  },
  {
   "cell_type": "code",
   "execution_count": 20,
   "metadata": {},
   "outputs": [],
   "source": [
    "\"\"\"\n",
    "We will now flatten each image into a 1-D array for the network\n",
    "\"\"\"\n",
    "train_images = train_images.reshape((60000, 28*28))\n",
    "test_images = test_images.reshape((10000, 28*28))\n",
    "\n",
    "\"\"\"\n",
    "Now we will standardize the 1-D arrays by dividing by 255,\n",
    "as the highest pixel value is 255, all values of the 1-D arrays\n",
    "will now be in the interval [0,1] due to standardization.\n",
    "\"\"\"\n",
    "\n",
    "train_images = train_images.astype('float32') / 255.0\n",
    "test_images = test_images.astype('float32') / 255.0"
   ]
  },
  {
   "cell_type": "code",
   "execution_count": 21,
   "metadata": {},
   "outputs": [
    {
     "name": "stdout",
     "output_type": "stream",
     "text": [
      "The shape of training dataset after preprocessing is: (60000, 784)\n",
      "The shape of testing dataset after preprocessing is: (10000, 784)\n"
     ]
    }
   ],
   "source": [
    "print(f\"The shape of training dataset after preprocessing is: {train_images.shape}\")\n",
    "print(f\"The shape of testing dataset after preprocessing is: {test_images.shape}\")"
   ]
  },
  {
   "cell_type": "markdown",
   "metadata": {},
   "source": [
    "### The Dense Layer\n",
    "\n",
    "A dense layer applies the following transformation during a forward pass,\n",
    "\n",
    "$Input(X) \\implies WX + b \\implies ActivationFunction(WX + b) \\implies Output$, where the parameter matrix $W$ is randomly initialized, usually from a uniform distribution. The values of the bias vector $b$ is usually set to all $0's$ or all $1's$."
   ]
  },
  {
   "cell_type": "code",
   "execution_count": 23,
   "metadata": {},
   "outputs": [],
   "source": [
    "\"\"\"\n",
    "Now we will implement a Dense layer manually.\n",
    "\"\"\"\n",
    "\n",
    "class Dense:\n",
    "    def __init__(self, input_size, output_size, activation):\n",
    "        self.activation = activation\n",
    "\n",
    "        w_shape = (input_size, output_size)\n",
    "        w_initial_value = tf.random.uniform(w_shape, minval=0, maxval=1e-1)\n",
    "        self.W = tf.Variable(w_initial_value)\n",
    "        \n",
    "        b_shape = (output_size,)\n",
    "        b_initial_value = tf.zeros(b_shape)\n",
    "        self.b = tf.Variable(b_initial_value)\n",
    "\n",
    "    def __call__(self, inputs):\n",
    "        return self.activation(tf.matmul(inputs, self.W) + self.b)\n",
    "    \n",
    "    # This property method is convenient if we want to retrieve the values of weights and biases at any step.\n",
    "    @property\n",
    "    def weights(self):\n",
    "        return [self.W, self.b]"
   ]
  },
  {
   "cell_type": "markdown",
   "metadata": {},
   "source": [
    "### The Sequential Model"
   ]
  },
  {
   "cell_type": "code",
   "execution_count": 24,
   "metadata": {},
   "outputs": [],
   "source": [
    "class Sequential:\n",
    "    def __init__(self, layers):\n",
    "        self.layers = layers\n",
    "\n",
    "    def __call__(self, inputs):\n",
    "        x = inputs\n",
    "        for layer in self.layers:\n",
    "            x = layer(x)\n",
    "        return x\n",
    "\n",
    "    @property\n",
    "    def weights(self):\n",
    "        weights = []\n",
    "        for layer in self.layers:\n",
    "            weights = weights + layer.weights\n",
    "        return weights"
   ]
  },
  {
   "cell_type": "markdown",
   "metadata": {},
   "source": [
    "### Adding Dense Layers to the Sequential Model"
   ]
  },
  {
   "cell_type": "code",
   "execution_count": 28,
   "metadata": {},
   "outputs": [],
   "source": [
    "\"\"\"\n",
    "Following the theory of neural networks, we use the ReLU activation function for our hidden layer so that it can\n",
    "extract representational information about the dataset nonlinearly.\n",
    "\n",
    "For the output layer we use the Softmax function as it is a Multinoulli or Multiclass classification problem.\n",
    "\"\"\"\n",
    "\n",
    "model = Sequential([\n",
    "    Dense(input_size=28*28, output_size=512, activation=tf.nn.relu),\n",
    "    Dense(input_size=512, output_size=10, activation=tf.nn.softmax)\n",
    "])\n",
    "\n",
    "# As two dense layers have been added each containing two 'weight' matrices one for W and one for b, the model should have 4 'weight'\n",
    "# matrices in its structure\n",
    "assert len(model.weights) == 4"
   ]
  },
  {
   "cell_type": "markdown",
   "metadata": {},
   "source": [
    "### Dividing the Data Into Batches\n",
    "\n",
    "Now we will train our model on the dataset using small batches of data, instead of training the model on the whole dataset. This makes things less computationally expensive when implementing backpropagation. As the model will then have to compute and update less gradients. "
   ]
  },
  {
   "cell_type": "code",
   "execution_count": 27,
   "metadata": {},
   "outputs": [],
   "source": [
    "import math\n",
    "\n",
    "class BatchGenerator:\n",
    "    def __init__(self, images, labels, batch_size=128):\n",
    "        # Ensure that equal amount of inputs and corresponding target outputs are fed.\n",
    "        assert len(images) == len(labels)\n",
    "        self.index = 0\n",
    "        self.images = images\n",
    "        self.labels = labels\n",
    "        self.batch_size = batch_size\n",
    "        self.num_batches = math.ceil(len(images)/batch_size)\n",
    "    \n",
    "    def next(self):\n",
    "        images = self.images[self.index : self.index + self.batch_size]\n",
    "        labels = self.labels[self.index : self.index + self.batch_size]\n",
    "        self.index = self.index + self.batch_size\n",
    "        return images, labels\n",
    "    "
   ]
  },
  {
   "cell_type": "markdown",
   "metadata": {},
   "source": [
    "### Implementing Forward and Backward Pass\n",
    "\n",
    "A training step involves the folloing flow:\n",
    "\n",
    "__Forward Pass__\n",
    "\n",
    "1. Compute the predictions of the model for the images in the batch.\n",
    "2. Compute the loss value for these predictions, given the actual labels.\n",
    "\n",
    "__Backward Pass__\n",
    "\n",
    "3. Compute the gradient of the loss with regard to the model’s weights.\n",
    "4. Move the weights by a small amount in the direction opposite to the gradient."
   ]
  },
  {
   "cell_type": "code",
   "execution_count": 29,
   "metadata": {},
   "outputs": [],
   "source": [
    "loss_function = tf.keras.losses.sparse_categorical_crossentropy #Cross Entropy for Multinoulli Classification\n",
    "\n",
    "def update_weights(gradients, weights):\n",
    "    learning_rate = 1e-3\n",
    "    for gradient, weight in zip(gradients, weights):\n",
    "        weight.assign_sub(gradient*learning_rate)\n",
    "\n",
    "def one_training_step(model, images_batch, labels_batch):\n",
    "    with tf.GradientTape() as tape:\n",
    "        predictions = model(images_batch)\n",
    "        per_sample_losses = loss_function(labels_batch, predictions)\n",
    "        average_loss = tf.reduce_mean(per_sample_losses)\n",
    "    gradients = tape.gradient(average_loss, model.weights)\n",
    "    update_weights(gradients, model.weights)\n",
    "    return average_loss    "
   ]
  },
  {
   "cell_type": "markdown",
   "metadata": {},
   "source": [
    "### The Full Training Loop\n",
    "\n",
    "We will train the model for $10$ epochs, that is train it on the full dataset $10$ times using small batches to train at each epoch."
   ]
  },
  {
   "cell_type": "code",
   "execution_count": 30,
   "metadata": {},
   "outputs": [],
   "source": [
    "def fit(model, images, labels, epochs, batch_size=128):\n",
    "    for epoch_counter in range(epochs):\n",
    "        print(f\"Epoch {epoch_counter}\")\n",
    "\n",
    "        batch_generator = BatchGenerator(images, labels)\n",
    "\n",
    "        for batch_counter in range(batch_generator.num_batches):\n",
    "            images_batch, labels_batch = batch_generator.next()\n",
    "            loss = one_training_step(model, images_batch, labels_batch)\n",
    "            if batch_counter % 100 == 0:\n",
    "                print(f\"Loss at batch {batch_counter} is: {loss:.2f}\")\n"
   ]
  },
  {
   "cell_type": "code",
   "execution_count": 31,
   "metadata": {},
   "outputs": [
    {
     "name": "stdout",
     "output_type": "stream",
     "text": [
      "Epoch 0\n",
      "Loss at batch 0 is: 4.62\n",
      "Loss at batch 100 is: 2.26\n",
      "Loss at batch 200 is: 2.25\n",
      "Loss at batch 300 is: 2.10\n",
      "Loss at batch 400 is: 2.22\n",
      "Epoch 1\n",
      "Loss at batch 0 is: 1.92\n",
      "Loss at batch 100 is: 1.90\n",
      "Loss at batch 200 is: 1.86\n",
      "Loss at batch 300 is: 1.72\n",
      "Loss at batch 400 is: 1.83\n",
      "Epoch 2\n",
      "Loss at batch 0 is: 1.59\n",
      "Loss at batch 100 is: 1.59\n",
      "Loss at batch 200 is: 1.53\n",
      "Loss at batch 300 is: 1.43\n",
      "Loss at batch 400 is: 1.51\n",
      "Epoch 3\n",
      "Loss at batch 0 is: 1.33\n",
      "Loss at batch 100 is: 1.35\n",
      "Loss at batch 200 is: 1.26\n",
      "Loss at batch 300 is: 1.22\n",
      "Loss at batch 400 is: 1.27\n",
      "Epoch 4\n",
      "Loss at batch 0 is: 1.13\n",
      "Loss at batch 100 is: 1.17\n",
      "Loss at batch 200 is: 1.06\n",
      "Loss at batch 300 is: 1.05\n",
      "Loss at batch 400 is: 1.11\n",
      "Epoch 5\n",
      "Loss at batch 0 is: 0.98\n",
      "Loss at batch 100 is: 1.02\n",
      "Loss at batch 200 is: 0.92\n",
      "Loss at batch 300 is: 0.93\n",
      "Loss at batch 400 is: 0.99\n",
      "Epoch 6\n",
      "Loss at batch 0 is: 0.87\n",
      "Loss at batch 100 is: 0.91\n",
      "Loss at batch 200 is: 0.81\n",
      "Loss at batch 300 is: 0.84\n",
      "Loss at batch 400 is: 0.90\n",
      "Epoch 7\n",
      "Loss at batch 0 is: 0.79\n",
      "Loss at batch 100 is: 0.83\n",
      "Loss at batch 200 is: 0.73\n",
      "Loss at batch 300 is: 0.77\n",
      "Loss at batch 400 is: 0.83\n",
      "Epoch 8\n",
      "Loss at batch 0 is: 0.72\n",
      "Loss at batch 100 is: 0.76\n",
      "Loss at batch 200 is: 0.67\n",
      "Loss at batch 300 is: 0.71\n",
      "Loss at batch 400 is: 0.78\n",
      "Epoch 9\n",
      "Loss at batch 0 is: 0.67\n",
      "Loss at batch 100 is: 0.71\n",
      "Loss at batch 200 is: 0.62\n",
      "Loss at batch 300 is: 0.67\n",
      "Loss at batch 400 is: 0.74\n"
     ]
    }
   ],
   "source": [
    "\"\"\"\n",
    "We will now train our model on the preprocessed data we obtained at the beginning.  \n",
    "\"\"\"\n",
    "fit(model, train_images, train_labels, epochs=10, batch_size=128)"
   ]
  },
  {
   "cell_type": "markdown",
   "metadata": {},
   "source": [
    "### Evaluation"
   ]
  },
  {
   "cell_type": "code",
   "execution_count": 33,
   "metadata": {},
   "outputs": [
    {
     "name": "stdout",
     "output_type": "stream",
     "text": [
      "Accuracy: 0.82\n"
     ]
    }
   ],
   "source": [
    "predictions = model(test_images)\n",
    "predictions = predictions.numpy()\n",
    "predicted_labels = np.argmax(predictions, axis=1)\n",
    "matches = predicted_labels == test_labels\n",
    "print(f\"Accuracy: {matches.mean():.2f}\")"
   ]
  },
  {
   "cell_type": "markdown",
   "metadata": {},
   "source": [
    "As we can see that this model reports and accuracy of 82%, that is our trained model can correctly guess the labels of the test images for more than 80% of cases."
   ]
  },
  {
   "cell_type": "markdown",
   "metadata": {},
   "source": [
    "### Visualizing the Results"
   ]
  },
  {
   "cell_type": "code",
   "execution_count": 35,
   "metadata": {},
   "outputs": [],
   "source": [
    "import seaborn as sns\n",
    "sns.set()"
   ]
  },
  {
   "cell_type": "code",
   "execution_count": 45,
   "metadata": {},
   "outputs": [
    {
     "data": {
      "image/png": "[encoded data removed]",
      "text/plain": [
       "<Figure size 432x288 with 1 Axes>"
      ]
     },
     "metadata": {},
     "output_type": "display_data"
    },
    {
     "data": {
      "image/png": "[encoded data removed]",
      "text/plain": [
       "<Figure size 432x288 with 1 Axes>"
      ]
     },
     "metadata": {},
     "output_type": "display_data"
    }
   ],
   "source": [
    "sns.histplot(test_labels)\n",
    "plt.xticks(np.arange(0, 10, 1));\n",
    "plt.show()\n",
    "\n",
    "sns.histplot(predicted_labels)\n",
    "plt.xticks(np.arange(0, 10, 1));\n",
    "plt.show()"
   ]
  },
  {
   "cell_type": "code",
   "execution_count": null,
   "metadata": {},
   "outputs": [],
   "source": []
  }
 ],
 "metadata": {
  "kernelspec": {
   "display_name": "Python 3.9.12 ('tf')",
   "language": "python",
   "name": "python3"
  },
  "language_info": {
   "codemirror_mode": {
    "name": "ipython",
    "version": 3
   },
   "file_extension": ".py",
   "mimetype": "text/x-python",
   "name": "python",
   "nbconvert_exporter": "python",
   "pygments_lexer": "ipython3",
   "version": "3.9.12"
  },
  "orig_nbformat": 4,
  "vscode": {
   "interpreter": {
    "hash": "d6364572a05610c145f7348150b927d4800d35aff954ebf5201318569ffcf301"
   }
  }
 },
 "nbformat": 4,
 "nbformat_minor": 2
}
