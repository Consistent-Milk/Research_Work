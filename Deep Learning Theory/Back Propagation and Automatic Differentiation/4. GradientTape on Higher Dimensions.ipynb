{
 "cells": [
  {
   "cell_type": "code",
   "execution_count": 1,
   "metadata": {},
   "outputs": [],
   "source": [
    "import tensorflow as tf"
   ]
  },
  {
   "cell_type": "code",
   "execution_count": 6,
   "metadata": {},
   "outputs": [
    {
     "name": "stdout",
     "output_type": "stream",
     "text": [
      "[<tf.Tensor: shape=(2,), dtype=float32, numpy=array([1.2, 2. ], dtype=float32)>, <tf.Tensor: shape=(2,), dtype=float32, numpy=array([1., 2.], dtype=float32)>]\n"
     ]
    }
   ],
   "source": [
    "x_1 = tf.Variable(initial_value=[1.0, 2.0])\n",
    "x_2 = tf.Variable(initial_value=[1.2, 2.0])\n",
    "\n",
    "with tf.GradientTape() as tape:\n",
    "    f = x_1 * x_2\n",
    "gradient = tape.gradient(f, [x_1, x_2])\n",
    "print(gradient)"
   ]
  },
  {
   "cell_type": "code",
   "execution_count": null,
   "metadata": {},
   "outputs": [],
   "source": []
  }
 ],
 "metadata": {
  "kernelspec": {
   "display_name": "Python 3.9.12 ('tf')",
   "language": "python",
   "name": "python3"
  },
  "language_info": {
   "codemirror_mode": {
    "name": "ipython",
    "version": 3
   },
   "file_extension": ".py",
   "mimetype": "text/x-python",
   "name": "python",
   "nbconvert_exporter": "python",
   "pygments_lexer": "ipython3",
   "version": "3.9.12"
  },
  "orig_nbformat": 4,
  "vscode": {
   "interpreter": {
    "hash": "d6364572a05610c145f7348150b927d4800d35aff954ebf5201318569ffcf301"
   }
  }
 },
 "nbformat": 4,
 "nbformat_minor": 2
}
