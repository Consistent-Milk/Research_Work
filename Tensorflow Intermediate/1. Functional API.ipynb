{
 "cells": [
  {
   "cell_type": "markdown",
   "metadata": {},
   "source": [
    "### Reference: Deep Learning by Francois Chollet"
   ]
  },
  {
   "cell_type": "markdown",
   "metadata": {},
   "source": [
    "### Moving Up to Functional API\n",
    "Upto now we have used the Sequential Model provided by Keras to build our DL models. Now we will look into features that will allow us to customize Layers, Loss Functions, Model Structure, Training Loops, Evaluation Metrics, Optimizers and basically each and every part of a Deep Learning model. A step up from using the Sequential Model is to use the Functional API provided by Keras which provides far more customizability and flexibility over model architecture. "
   ]
  },
  {
   "cell_type": "markdown",
   "metadata": {},
   "source": [
    "#### Example 1"
   ]
  },
  {
   "cell_type": "code",
   "execution_count": 1,
   "metadata": {},
   "outputs": [],
   "source": [
    "import tensorflow as tf\n",
    "from tensorflow import keras\n",
    "from tensorflow.keras import layers"
   ]
  },
  {
   "cell_type": "code",
   "execution_count": 2,
   "metadata": {},
   "outputs": [],
   "source": [
    "inputs = keras.Input(shape=(3,), name=\"Input Layer\")\n",
    "features = layers.Dense(64, activation=\"relu\", name=\"Hidden_Dense_RELU\")(inputs)\n",
    "outputs = layers.Dense(10, activation=\"softmax\", name=\"Output_Dense_Softmax\")(features)\n",
    "model = keras.Model(inputs=inputs, outputs=outputs)"
   ]
  },
  {
   "cell_type": "markdown",
   "metadata": {},
   "source": [
    "#### Explanation of the Structure \n",
    "\n",
    "The Input Layer will take in any batch of samples of variable size where each sample has the shape (3,). If we look at the 'None' value in the output shape of the model summary that implies that the size of batch of samples is undefined and thus it is allowed to take in batches of any size, but still the shape of the samples in the batch matter and are defined.\n",
    "\n",
    "There is only one Hidden Layer defined in this model, we named it Hidden_Dense_RELU. It is a Dense layer with 64 nodes. Each node performs the same operation of ReLU(WX + b), and each node has randomized initial values for their corressponding W's and b's. It essential to understand how this hidden layer turns out to have 256 trainable parameters. \n",
    "\n",
    "The 64 nodes of the Dense hidden layer, each are fed 3 input data, in simpler form, the affine transorfmation each node performs, \n",
    "\n",
    "$$\n",
    "\\begin{align*}\n",
    "A_{node_1}(X) = W_{node_1}X + b_{node_1} \\\\\n",
    "\\implies A_{node_1}(X) = w_{node_1}^{(1)}x_1 + w_{node_1}^{(2)}x_2 + w_{node_1}^{(3)}x_3 + b_{node_1} \n",
    "\\end{align*}\n",
    "$$\n",
    "\n",
    "Thus each node in the hidden layer is initialized with $4$ trainable parameters, and that is we get $4 \\times 64 = 256$ total trainable parameters for the hidden layer.\n",
    "\n",
    "The last output layer takes $64$ inputs, which are produced by the $64$ nodes of the hidden layer. As the last layer is also a Dense layer with $10$ nodes, each node is initialzied with $64$ weight paramaters and $1$ extra bias parameter. Thus each node is initialized with a total of $65$ trainable parameters. Combined this gives us $10 \\times 65 = 650$ trainable parameters for the output layer. \n",
    "\n",
    "Summing up all the trainable parameters, we have $256 + 650 = 906$ total trainable parameters for our model. Any loss function defined will have optimize all of these $906$ parameters by calculating the gradient of the loss function with respect to each of the $906$ parameters."
   ]
  },
  {
   "cell_type": "code",
   "execution_count": 3,
   "metadata": {},
   "outputs": [
    {
     "name": "stdout",
     "output_type": "stream",
     "text": [
      "Model: \"model\"\n",
      "_________________________________________________________________\n",
      " Layer (type)                Output Shape              Param #   \n",
      "=================================================================\n",
      " Input Layer (InputLayer)    [(None, 3)]               0         \n",
      "                                                                 \n",
      " Hidden_Dense_RELU (Dense)   (None, 64)                256       \n",
      "                                                                 \n",
      " Output_Dense_Softmax (Dense  (None, 10)               650       \n",
      " )                                                               \n",
      "                                                                 \n",
      "=================================================================\n",
      "Total params: 906\n",
      "Trainable params: 906\n",
      "Non-trainable params: 0\n",
      "_________________________________________________________________\n"
     ]
    }
   ],
   "source": [
    "model.summary()"
   ]
  },
  {
   "cell_type": "markdown",
   "metadata": {},
   "source": [
    "#### Example 2: Leveraging the Actaul Power of the Functional API\n",
    "\n",
    "Up until now all of the models we made looked like lists, that is had a Sequential pattern. For problems involving multiple input datasets and multiple outputs, the Functional API shows its true power.\n",
    "\n",
    "This can be illustrated by this hypothetical problem:\n",
    "\n",
    "Let’s say we are building a system to rank customer support tickets by priority and route them to the appropriate department. Our model has three inputs:\n",
    "1. The title of the ticket (text input)\n",
    "2. The text body of the ticket (text input)\n",
    "3. Any tags added by the user (categorical input, assumed here to be one-hot encoded)\n",
    "\n",
    "The model also has two outputs:\n",
    "1. The priority score of the ticket, a scalar between 0 and 1 (sigmoid output)\n",
    "2. The department that should handle the ticket (a softmax over the set of departments)\n",
    "\n",
    "This allows us to collect, process and feature engineer each of the relevant input datasets separately, instead of merging them together beforehand and work on them together, which is not always a feasible approach.\n",
    "\n",
    "Tags are one-hot encoded and text inputs are processed using a vocabulary dictionary, which contains 10000 different words.\n",
    "\n",
    "A practical example of such a sample would be:\n",
    "\n",
    "__Ticket__\n",
    "\n",
    "1. Title: My PC is not turning on. \n",
    "2. Text Body : I have bought my pc from your store three months ago. It worked fine until yesterday. Now it's not turning on.\n",
    "3. Tags: Customer_Service, Technical_Issue\n",
    "\n",
    "__Departments__ available to forward this ticket are:\n",
    "1. Customer Service\n",
    "2. Corporate Division\n",
    "3. Technical Service\n",
    "4. Warranty Management Division\n",
    "\n",
    "Let us assume that our store sells pc's with a warranty of 1 year at minimum for each of its components. That means our model will have to study and identify whether the pc still has warranty left, if it does it may be forwarded to either the Customer Service department or the Technical Service department. But as the text body doesn't indicate any concrete evidence of proper technical malfunctionality, we would want this ticket to go to Customer Service first, so that they can properly diagnose the problem and decide whether it warrants Technical Service.\n",
    "\n",
    "The Functional API implements this model as below:"
   ]
  },
  {
   "cell_type": "code",
   "execution_count": 4,
   "metadata": {},
   "outputs": [],
   "source": [
    "vocabulary_size = 10000\n",
    "num_tags = 100\n",
    "num_departments = 4\n",
    "\n",
    "title = keras.Input(shape=(vocabulary_size,), name=\"title\")\n",
    "text_body = keras.Input(shape=(vocabulary_size,), name=\"text_body\")\n",
    "tags = keras.Input(shape=(num_tags,), name=\"tags\")\n",
    "\n",
    "features = layers.Concatenate()([title, text_body, tags])\n",
    "features = layers.Dense(64, activation=\"relu\")(features)\n",
    "\n",
    "priority = layers.Dense(1, activation=\"sigmoid\", name=\"priority\")(features)\n",
    "department = layers.Dense(num_departments, activation=\"softmax\", name=\"department\")(features)\n",
    "\n",
    "model = keras.Model(inputs=[title, text_body, tags], outputs=[priority, department])"
   ]
  },
  {
   "cell_type": "code",
   "execution_count": 6,
   "metadata": {},
   "outputs": [
    {
     "data": {
      "image/png": "[encoded data removed]",
      "text/plain": [
       "<IPython.core.display.Image object>"
      ]
     },
     "execution_count": 6,
     "metadata": {},
     "output_type": "execute_result"
    }
   ],
   "source": [
    "keras.utils.plot_model(model, show_shapes=True)"
   ]
  },
  {
   "cell_type": "markdown",
   "metadata": {},
   "source": [
    "As we can see this is a very different approach from what a Sequential model does or is capable of."
   ]
  },
  {
   "cell_type": "code",
   "execution_count": 7,
   "metadata": {},
   "outputs": [
    {
     "name": "stdout",
     "output_type": "stream",
     "text": [
      "Model: \"model_1\"\n",
      "__________________________________________________________________________________________________\n",
      " Layer (type)                   Output Shape         Param #     Connected to                     \n",
      "==================================================================================================\n",
      " title (InputLayer)             [(None, 10000)]      0           []                               \n",
      "                                                                                                  \n",
      " text_body (InputLayer)         [(None, 10000)]      0           []                               \n",
      "                                                                                                  \n",
      " tags (InputLayer)              [(None, 100)]        0           []                               \n",
      "                                                                                                  \n",
      " concatenate (Concatenate)      (None, 20100)        0           ['title[0][0]',                  \n",
      "                                                                  'text_body[0][0]',              \n",
      "                                                                  'tags[0][0]']                   \n",
      "                                                                                                  \n",
      " dense (Dense)                  (None, 64)           1286464     ['concatenate[0][0]']            \n",
      "                                                                                                  \n",
      " priority (Dense)               (None, 1)            65          ['dense[0][0]']                  \n",
      "                                                                                                  \n",
      " department (Dense)             (None, 4)            260         ['dense[0][0]']                  \n",
      "                                                                                                  \n",
      "==================================================================================================\n",
      "Total params: 1,286,789\n",
      "Trainable params: 1,286,789\n",
      "Non-trainable params: 0\n",
      "__________________________________________________________________________________________________\n"
     ]
    }
   ],
   "source": [
    "model.summary()"
   ]
  },
  {
   "cell_type": "code",
   "execution_count": null,
   "metadata": {},
   "outputs": [],
   "source": []
  }
 ],
 "metadata": {
  "kernelspec": {
   "display_name": "Python 3.9.12 ('tf')",
   "language": "python",
   "name": "python3"
  },
  "language_info": {
   "codemirror_mode": {
    "name": "ipython",
    "version": 3
   },
   "file_extension": ".py",
   "mimetype": "text/x-python",
   "name": "python",
   "nbconvert_exporter": "python",
   "pygments_lexer": "ipython3",
   "version": "3.9.12"
  },
  "orig_nbformat": 4,
  "vscode": {
   "interpreter": {
    "hash": "d6364572a05610c145f7348150b927d4800d35aff954ebf5201318569ffcf301"
   }
  }
 },
 "nbformat": 4,
 "nbformat_minor": 2
}
