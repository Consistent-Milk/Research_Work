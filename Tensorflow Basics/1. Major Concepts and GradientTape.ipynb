{
 "cells": [
  {
   "cell_type": "markdown",
   "metadata": {},
   "source": [
    "### Reference: Deep Learning by Francois Chollet"
   ]
  },
  {
   "cell_type": "markdown",
   "metadata": {},
   "source": [
    "Training a neural network revolves around the following concepts, which we we divide up into two important parts:\n",
    "\n",
    "1. Low-level tensor manipulation. This is handled by the TensorFlow API and is related to:\n",
    "\n",
    "    a) Tensors, that store the network's state (variables)\n",
    "\n",
    "    b) Tensor operations such as addition, relu, matmul etc. \n",
    "\n",
    "    c) Backpropagation using GradientTape.\n",
    "\n",
    "2. High-level learning concepts. This is handled by the Keras API and is related to:\n",
    "\n",
    "    a) Layers, which are combined into a model.\n",
    "\n",
    "    b) Loss functions\n",
    "\n",
    "    c) Optimizers\n",
    "\n",
    "    d) Metrics for Evaluation\n",
    "\n",
    "    e) Loops that implement mini-batch stochastic gradient descent."
   ]
  },
  {
   "cell_type": "markdown",
   "metadata": {},
   "source": [
    "### GradientTape Object\n",
    "\n",
    "The most important thing that we will leverage from Tensorflow to build our neural networks is the GradientTape Object. \n",
    "\n",
    "The GradientTape class provided by Tensorflow can be used to retrieve the gradient of any differentiable expression with respect to any of its inputs."
   ]
  },
  {
   "cell_type": "code",
   "execution_count": 1,
   "metadata": {},
   "outputs": [],
   "source": [
    "import tensorflow as tf"
   ]
  },
  {
   "cell_type": "markdown",
   "metadata": {},
   "source": [
    "#### Example 1"
   ]
  },
  {
   "cell_type": "code",
   "execution_count": 5,
   "metadata": {},
   "outputs": [],
   "source": [
    "input_var = tf.Variable(initial_value=3.0)\n",
    "with tf.GradientTape() as tape:\n",
    "    result = tf.square(input_var)\n",
    "gradient = tape.gradient(result, input_var)"
   ]
  },
  {
   "cell_type": "markdown",
   "metadata": {},
   "source": [
    "The code basically does the following operations:\n",
    "\n",
    "The GradientTape Object is given the following function with an input value, \n",
    "\n",
    "$$\n",
    "f(x) = x^{2} \\hspace{0.5cm}, \\hspace{0.1cm} x = 3.0\n",
    "$$\n",
    "\n",
    "It computes the derivative,\n",
    "\n",
    "$$\n",
    "\\frac{df}{dx} = 2x\n",
    "$$\n",
    "\n",
    "Then it updates the value of the derivative, i.e., gradient, using the input value, which results in the tensor object __input_var__ producing a new Tensor object with a value of $6.0$. It should be noted that the value of the __input_var__ does not change due to this operation."
   ]
  },
  {
   "cell_type": "code",
   "execution_count": 7,
   "metadata": {},
   "outputs": [
    {
     "name": "stdout",
     "output_type": "stream",
     "text": [
      "tf.Tensor(6.0, shape=(), dtype=float32)\n",
      "<tf.Variable 'Variable:0' shape=() dtype=float32, numpy=3.0>\n"
     ]
    }
   ],
   "source": [
    "print(gradient)\n",
    "print(input_var)"
   ]
  },
  {
   "cell_type": "markdown",
   "metadata": {},
   "source": [
    "#### Example 2"
   ]
  },
  {
   "cell_type": "markdown",
   "metadata": {},
   "source": [
    "Let us assume that we have the time dependent position function,\n",
    "\n",
    "$$\n",
    "x(t) = 4.9 t^{2} \n",
    "$$\n",
    "\n",
    "We know that the acceleration of the object following this function will be given by the second derivative,\n",
    "\n",
    "$$\n",
    "\\begin{align*}\n",
    "x(t) = 4.9 t^{2} \\\\\n",
    "\\implies v(t) = \\frac{dx}{dt} = 9.8t \\\\\n",
    "\\implies a(t) = \\frac{d^{2}x}{dt^{2}} = 9.8\n",
    "\\end{align*}\n",
    "$$\n",
    "\n",
    "Although a simple example, the use of GradientTape in this case is given below, which shows how we can nest GradientTape objects to compute higher-order derivatives. "
   ]
  },
  {
   "cell_type": "code",
   "execution_count": 8,
   "metadata": {},
   "outputs": [
    {
     "name": "stdout",
     "output_type": "stream",
     "text": [
      "tf.Tensor(9.8, shape=(), dtype=float32)\n"
     ]
    }
   ],
   "source": [
    "time = tf.Variable(0.0)\n",
    "with tf.GradientTape() as outer_tape:\n",
    "    with tf.GradientTape() as inner_tape:\n",
    "        position = (4.9) * (time)**2\n",
    "    speed = inner_tape.gradient(position, time)\n",
    "acceleration = outer_tape.gradient(speed, time)\n",
    "print(acceleration)"
   ]
  }
 ],
 "metadata": {
  "kernelspec": {
   "display_name": "Python 3.9.12 ('tf')",
   "language": "python",
   "name": "python3"
  },
  "language_info": {
   "codemirror_mode": {
    "name": "ipython",
    "version": 3
   },
   "file_extension": ".py",
   "mimetype": "text/x-python",
   "name": "python",
   "nbconvert_exporter": "python",
   "pygments_lexer": "ipython3",
   "version": "3.9.12"
  },
  "orig_nbformat": 4,
  "vscode": {
   "interpreter": {
    "hash": "d6364572a05610c145f7348150b927d4800d35aff954ebf5201318569ffcf301"
   }
  }
 },
 "nbformat": 4,
 "nbformat_minor": 2
}
