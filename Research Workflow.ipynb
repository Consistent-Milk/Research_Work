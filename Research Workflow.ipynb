{
 "cells": [
  {
   "cell_type": "markdown",
   "metadata": {},
   "source": [
    "1. Use Lebesgue integrals as the basis for the probabilistic theoretical framework of the Deep Learning model. Although other more general interpration of integrals are available, they are still not as theoretically well established and doesn't offer enough available work to rely upon.\n",
    "2. Consider application of Itô calculus based on DL models dynamic nature.\n",
    "3. Develop mathematically rigorous methods of evaluating Gaussian Integrals based Lebesgue integration. "
   ]
  }
 ],
 "metadata": {
  "language_info": {
   "name": "python"
  },
  "orig_nbformat": 4
 },
 "nbformat": 4,
 "nbformat_minor": 2
}
