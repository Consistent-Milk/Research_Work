{
 "cells": [
  {
   "cell_type": "markdown",
   "metadata": {},
   "source": [
    "1. Use Lebesgue integrals as the basis for the probabilistic theoretical framework of the Deep Learning model. Although other more general interpration of integrals are available, they are still not as theoretically well established and doesn't offer enough available work to rely upon.\n",
    "2. Consider application of Itô calculus based on DL models dynamic nature.\n",
    "3. Develop mathematically rigorous methods of evaluating Gaussian Integrals based on Lebesgue integration. \n",
    "4. Why are wide and deep neural networks governed by 'nearly-Gaussian' distributions?"
   ]
  }
 ],
 "metadata": {
  "kernelspec": {
   "display_name": "Python 3.9.12 ('tf')",
   "language": "python",
   "name": "python3"
  },
  "language_info": {
   "name": "python",
   "version": "3.9.12"
  },
  "orig_nbformat": 4,
  "vscode": {
   "interpreter": {
    "hash": "d6364572a05610c145f7348150b927d4800d35aff954ebf5201318569ffcf301"
   }
  }
 },
 "nbformat": 4,
 "nbformat_minor": 2
}
